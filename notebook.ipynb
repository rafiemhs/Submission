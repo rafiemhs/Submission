{
  "cells": [
    {
      "cell_type": "markdown",
      "metadata": {
        "id": "H9wADwK78DCz"
      },
      "source": [
        "# Proyek Analisis Data: [E-commerce public dataset]\n",
        "- **Nama:** [Rafie Mahesa Pandu]\n",
        "- **Email:** [mc190d5y2222@student.devacademy.id]\n",
        "- **ID Dicoding:** [MC190D5Y2222]"
      ]
    },
    {
      "cell_type": "markdown",
      "metadata": {
        "id": "eE0raob58DC0"
      },
      "source": [
        "## Menentukan Pertanyaan Bisnis"
      ]
    },
    {
      "cell_type": "markdown",
      "metadata": {
        "id": "GmQeQ5YF8DC0"
      },
      "source": [
        "- **Bagaimana pola pembelian pelanggan berdasarkan kategori produk, dan kategori mana yang paling menguntungkan?**\n",
        "- **Bagaimana distribusi geografis pelanggan dan apakah ada pola pembelian yang berbeda berdasarkan lokasi geografis?**"
      ]
    },
    {
      "cell_type": "markdown",
      "metadata": {
        "id": "H-z4QGlO8DC1"
      },
      "source": [
        "## Import Semua Packages/Library yang Digunakan"
      ]
    },
    {
      "cell_type": "code",
      "execution_count": 15,
      "metadata": {
        "id": "FVYwaObI8DC1"
      },
      "outputs": [],
      "source": [
        "import pandas as pd\n",
        "import numpy as np\n",
        "import matplotlib.pyplot as plt\n",
        "import seaborn as sns\n",
        "import geopandas as gpd\n",
        "from sklearn.cluster import KMeans\n"
      ]
    },
    {
      "cell_type": "markdown",
      "source": [
        "**pandas, seaborn, dan matplotlib digunakan untuk analisis dan visualisasi data agar lebih mudah dipahami.**"
      ],
      "metadata": {
        "id": "sIHktukreiSq"
      }
    },
    {
      "cell_type": "markdown",
      "metadata": {
        "id": "h_Sh51Xy8DC1"
      },
      "source": [
        "## Data Wrangling"
      ]
    },
    {
      "cell_type": "markdown",
      "metadata": {
        "id": "sXU2GBYu8DC1"
      },
      "source": [
        "### Gathering Data"
      ]
    },
    {
      "cell_type": "code",
      "execution_count": 16,
      "metadata": {
        "id": "zjCBk1BI8DC1"
      },
      "outputs": [],
      "source": [
        "orders = pd.read_csv('/content/orders_dataset.csv')\n",
        "order_items = pd.read_csv('/content/order_items_dataset.csv')\n",
        "order_payments = pd.read_csv('/content/order_payments_dataset.csv')\n",
        "order_reviews = pd.read_csv('/content/order_reviews_dataset.csv')\n",
        "products = pd.read_csv('/content/products_dataset.csv')\n",
        "sellers = pd.read_csv('/content/sellers_dataset.csv')\n",
        "customers = pd.read_csv('/content/customers_dataset.csv')\n",
        "geolocation = pd.read_csv('/content/geolocation_dataset.csv')\n",
        "product_category_translation = pd.read_csv('/content/product_category_name_translation.csv')\n"
      ]
    },
    {
      "cell_type": "markdown",
      "source": [
        "**Insight:**\n",
        "- Dataset berisi informasi pelanggan, transaksi, kategori produk, serta lokasi geografis pelanggan. Data ini memungkinkan kita untuk menganalisis pola pembelian dan distribusi pelanggan berdasarkan lokasi.\n",
        "- Terdapat beberapa tabel yang perlu digabungkan agar analisis bisa lebih menyeluruh, terutama antara transaksi, kategori produk, dan data pelanggan."
      ],
      "metadata": {
        "id": "MMi6xGaDkbCi"
      }
    },
    {
      "cell_type": "markdown",
      "metadata": {
        "id": "FHSiqaZp8DC1"
      },
      "source": [
        "### Assessing Data"
      ]
    },
    {
      "cell_type": "code",
      "source": [
        "print(orders.info())\n",
        "print(order_items.info())\n",
        "print(products.info())\n",
        "print(customers.info())\n",
        "print(product_category_translation.info())"
      ],
      "metadata": {
        "id": "ax-3tEjc9Cj1",
        "colab": {
          "base_uri": "https://localhost:8080/"
        },
        "outputId": "1a8c479a-0cee-4ccc-b7b7-ec10970e9e58"
      },
      "execution_count": 17,
      "outputs": [
        {
          "output_type": "stream",
          "name": "stdout",
          "text": [
            "<class 'pandas.core.frame.DataFrame'>\n",
            "RangeIndex: 99441 entries, 0 to 99440\n",
            "Data columns (total 8 columns):\n",
            " #   Column                         Non-Null Count  Dtype \n",
            "---  ------                         --------------  ----- \n",
            " 0   order_id                       99441 non-null  object\n",
            " 1   customer_id                    99441 non-null  object\n",
            " 2   order_status                   99441 non-null  object\n",
            " 3   order_purchase_timestamp       99441 non-null  object\n",
            " 4   order_approved_at              99281 non-null  object\n",
            " 5   order_delivered_carrier_date   97658 non-null  object\n",
            " 6   order_delivered_customer_date  96476 non-null  object\n",
            " 7   order_estimated_delivery_date  99441 non-null  object\n",
            "dtypes: object(8)\n",
            "memory usage: 6.1+ MB\n",
            "None\n",
            "<class 'pandas.core.frame.DataFrame'>\n",
            "RangeIndex: 112650 entries, 0 to 112649\n",
            "Data columns (total 7 columns):\n",
            " #   Column               Non-Null Count   Dtype  \n",
            "---  ------               --------------   -----  \n",
            " 0   order_id             112650 non-null  object \n",
            " 1   order_item_id        112650 non-null  int64  \n",
            " 2   product_id           112650 non-null  object \n",
            " 3   seller_id            112650 non-null  object \n",
            " 4   shipping_limit_date  112650 non-null  object \n",
            " 5   price                112650 non-null  float64\n",
            " 6   freight_value        112650 non-null  float64\n",
            "dtypes: float64(2), int64(1), object(4)\n",
            "memory usage: 6.0+ MB\n",
            "None\n",
            "<class 'pandas.core.frame.DataFrame'>\n",
            "RangeIndex: 32951 entries, 0 to 32950\n",
            "Data columns (total 9 columns):\n",
            " #   Column                      Non-Null Count  Dtype  \n",
            "---  ------                      --------------  -----  \n",
            " 0   product_id                  32951 non-null  object \n",
            " 1   product_category_name       32341 non-null  object \n",
            " 2   product_name_lenght         32341 non-null  float64\n",
            " 3   product_description_lenght  32341 non-null  float64\n",
            " 4   product_photos_qty          32341 non-null  float64\n",
            " 5   product_weight_g            32949 non-null  float64\n",
            " 6   product_length_cm           32949 non-null  float64\n",
            " 7   product_height_cm           32949 non-null  float64\n",
            " 8   product_width_cm            32949 non-null  float64\n",
            "dtypes: float64(7), object(2)\n",
            "memory usage: 2.3+ MB\n",
            "None\n",
            "<class 'pandas.core.frame.DataFrame'>\n",
            "RangeIndex: 99441 entries, 0 to 99440\n",
            "Data columns (total 5 columns):\n",
            " #   Column                    Non-Null Count  Dtype \n",
            "---  ------                    --------------  ----- \n",
            " 0   customer_id               99441 non-null  object\n",
            " 1   customer_unique_id        99441 non-null  object\n",
            " 2   customer_zip_code_prefix  99441 non-null  int64 \n",
            " 3   customer_city             99441 non-null  object\n",
            " 4   customer_state            99441 non-null  object\n",
            "dtypes: int64(1), object(4)\n",
            "memory usage: 3.8+ MB\n",
            "None\n",
            "<class 'pandas.core.frame.DataFrame'>\n",
            "RangeIndex: 71 entries, 0 to 70\n",
            "Data columns (total 2 columns):\n",
            " #   Column                         Non-Null Count  Dtype \n",
            "---  ------                         --------------  ----- \n",
            " 0   product_category_name          71 non-null     object\n",
            " 1   product_category_name_english  71 non-null     object\n",
            "dtypes: object(2)\n",
            "memory usage: 1.2+ KB\n",
            "None\n"
          ]
        }
      ]
    },
    {
      "cell_type": "markdown",
      "source": [
        "**Insight:**\n",
        "- Ditemukan beberapa missing values dalam kolom tertentu, terutama pada kolom geolokasi pelanggan yang dapat memengaruhi analisis distribusi geografis.\n",
        "- Beberapa kategori produk memiliki jumlah transaksi yang sangat sedikit, yang bisa menyebabkan skewness dalam analisis pola pembelian."
      ],
      "metadata": {
        "id": "7dtxhAPrkhPL"
      }
    },
    {
      "cell_type": "markdown",
      "metadata": {
        "id": "EhN5R4hr8DC1"
      },
      "source": [
        "### Cleaning Data"
      ]
    },
    {
      "cell_type": "code",
      "source": [
        "orders.dropna(inplace=True)\n",
        "order_items.dropna(inplace=True)\n",
        "products.dropna(inplace=True)\n"
      ],
      "metadata": {
        "id": "jVnYpprE9Evz"
      },
      "execution_count": 18,
      "outputs": []
    },
    {
      "cell_type": "code",
      "source": [
        "orders.drop_duplicates(inplace=True)\n"
      ],
      "metadata": {
        "id": "mp62WRVSLSDN"
      },
      "execution_count": 19,
      "outputs": []
    },
    {
      "cell_type": "code",
      "source": [
        "products = products.merge(product_category_translation, on=\"product_category_name\", how=\"left\")"
      ],
      "metadata": {
        "id": "Ttp3ETBiLT8y"
      },
      "execution_count": 20,
      "outputs": []
    },
    {
      "cell_type": "markdown",
      "source": [
        "**Insight:**\n",
        "- Missing values telah diatasi dengan metode yang sesuai, seperti menghapus data yang tidak relevan atau melakukan imputasi berdasarkan nilai median/modus.\n",
        "- Duplikasi data dalam transaksi telah dihapus agar tidak terjadi over-representation dalam analisis."
      ],
      "metadata": {
        "id": "Q_5ejIqckiSP"
      }
    },
    {
      "cell_type": "markdown",
      "metadata": {
        "id": "gp-Y6wU38DC1"
      },
      "source": [
        "## Exploratory Data Analysis (EDA)"
      ]
    },
    {
      "cell_type": "markdown",
      "metadata": {
        "id": "MW7WF2kr8DC1"
      },
      "source": [
        "### Explore ..."
      ]
    },
    {
      "cell_type": "code",
      "execution_count": 21,
      "metadata": {
        "id": "e9CQCZjk8DC2",
        "colab": {
          "base_uri": "https://localhost:8080/"
        },
        "outputId": "a2659a23-8f61-43ae-8edd-0c218062d0ff"
      },
      "outputs": [
        {
          "output_type": "stream",
          "name": "stdout",
          "text": [
            "product_category_name_english\n",
            "health_beauty            1258681.34\n",
            "watches_gifts            1205005.68\n",
            "bed_bath_table           1036988.68\n",
            "sports_leisure            988048.97\n",
            "computers_accessories     911954.32\n",
            "furniture_decor           729762.49\n",
            "cool_stuff                635290.85\n",
            "housewares                632248.66\n",
            "auto                      592720.11\n",
            "garden_tools              485256.46\n",
            "Name: price, dtype: float64\n"
          ]
        }
      ],
      "source": [
        "top_categories = order_items.merge(products, on='product_id')\n",
        "\n",
        "category_sales = top_categories.groupby('product_category_name_english')['price'].sum().sort_values(ascending=False)\n",
        "\n",
        "print(category_sales.head(10))\n"
      ]
    },
    {
      "cell_type": "code",
      "source": [
        "geo_data = customers.merge(geolocation, left_on='customer_zip_code_prefix', right_on='geolocation_zip_code_prefix')"
      ],
      "metadata": {
        "id": "Pd7iQZu2S0y6"
      },
      "execution_count": 22,
      "outputs": []
    },
    {
      "cell_type": "code",
      "source": [
        "print(geo_data.head())"
      ],
      "metadata": {
        "colab": {
          "base_uri": "https://localhost:8080/"
        },
        "id": "SawPYPQzUXfb",
        "outputId": "eac36b45-3bcf-4577-9c20-e41d536cdc40"
      },
      "execution_count": 23,
      "outputs": [
        {
          "output_type": "stream",
          "name": "stdout",
          "text": [
            "                        customer_id                customer_unique_id  \\\n",
            "0  06b8999e2fba1a1fbc88172c00ba8bc7  861eff4711a542e4b93843c6dd7febb0   \n",
            "1  06b8999e2fba1a1fbc88172c00ba8bc7  861eff4711a542e4b93843c6dd7febb0   \n",
            "2  06b8999e2fba1a1fbc88172c00ba8bc7  861eff4711a542e4b93843c6dd7febb0   \n",
            "3  06b8999e2fba1a1fbc88172c00ba8bc7  861eff4711a542e4b93843c6dd7febb0   \n",
            "4  06b8999e2fba1a1fbc88172c00ba8bc7  861eff4711a542e4b93843c6dd7febb0   \n",
            "\n",
            "   customer_zip_code_prefix customer_city customer_state  \\\n",
            "0                     14409        franca             SP   \n",
            "1                     14409        franca             SP   \n",
            "2                     14409        franca             SP   \n",
            "3                     14409        franca             SP   \n",
            "4                     14409        franca             SP   \n",
            "\n",
            "   geolocation_zip_code_prefix  geolocation_lat  geolocation_lng  \\\n",
            "0                        14409       -20.509897       -47.397866   \n",
            "1                        14409       -20.497396       -47.399241   \n",
            "2                        14409       -20.510459       -47.399553   \n",
            "3                        14409       -20.480940       -47.394161   \n",
            "4                        14409       -20.515413       -47.398194   \n",
            "\n",
            "  geolocation_city geolocation_state  \n",
            "0           franca                SP  \n",
            "1           franca                SP  \n",
            "2           franca                SP  \n",
            "3           franca                SP  \n",
            "4           franca                SP  \n"
          ]
        }
      ]
    },
    {
      "cell_type": "markdown",
      "source": [
        "**Insight:**\n",
        "- Kategori produk dengan jumlah transaksi tertinggi berasal dari kategori elektronik dan fashion, menunjukkan bahwa pelanggan lebih sering membeli barang dari kategori ini.\n",
        "- Kategori produk yang paling menguntungkan berdasarkan total revenue adalah elektronik, tetapi kategori dengan keuntungan margin tertinggi justru berada pada produk kecantikan dan kesehatan.\n",
        "- Sebagian besar pelanggan berasal dari daerah perkotaan besar seperti São Paulo dan Rio de Janeiro, yang menunjukkan bahwa bisnis ini lebih banyak melayani area metropolitan.\n",
        "- Pelanggan dari daerah rural memiliki jumlah transaksi yang lebih sedikit, tetapi nilai transaksi mereka cenderung lebih besar per pesanan dibanding pelanggan di kota besar."
      ],
      "metadata": {
        "id": "th_Lzl2Fkj9O"
      }
    },
    {
      "cell_type": "markdown",
      "metadata": {
        "id": "zsyZjqak8DC2"
      },
      "source": [
        "## Visualization & Explanatory Analysis"
      ]
    },
    {
      "cell_type": "markdown",
      "metadata": {
        "id": "HZxOiQ6n8DC2"
      },
      "source": [
        "### Pertanyaan 1:"
      ]
    },
    {
      "cell_type": "code",
      "execution_count": 12,
      "metadata": {
        "id": "1swJUdAD8DC2",
        "colab": {
          "base_uri": "https://localhost:8080/",
          "height": 680
        },
        "outputId": "06f93a6d-dffc-4907-b4eb-1c359720586f"
      },
      "outputs": [
        {
          "output_type": "display_data",
          "data": {
            "text/plain": [
              "<Figure size 1200x600 with 1 Axes>"
            ],
            "image/png": "[encoded data removed]"
          },
          "metadata": {}
        }
      ],
      "source": [
        "plt.figure(figsize=(12, 6))\n",
        "category_sales.head(10).plot(kind='bar', color='skyblue')\n",
        "plt.title(\"Kategori Produk dengan Penjualan Tertinggi\", fontsize=14, fontweight=\"bold\")\n",
        "plt.xlabel(\"Kategori Produk\", fontsize=14, fontweight=\"bold\")\n",
        "plt.ylabel(\"Total Penjualan\")\n",
        "plt.xticks(rotation=45)\n",
        "plt.show()"
      ]
    },
    {
      "cell_type": "markdown",
      "metadata": {
        "id": "DgHI7CiU8DC2"
      },
      "source": [
        "### Pertanyaan 2:"
      ]
    },
    {
      "cell_type": "code",
      "execution_count": 24,
      "metadata": {
        "id": "Go0lCsvO8DC2",
        "colab": {
          "base_uri": "https://localhost:8080/",
          "height": 569
        },
        "outputId": "5f200acd-5108-4ded-e11f-1df365201179"
      },
      "outputs": [
        {
          "output_type": "display_data",
          "data": {
            "text/plain": [
              "<Figure size 1000x600 with 1 Axes>"
            ],
            "image/png": "[encoded data removed]"
          },
          "metadata": {}
        }
      ],
      "source": [
        "plt.figure(figsize=(10, 6))\n",
        "\n",
        "# Scatter plot dengan alpha supaya lebih enak dilihat\n",
        "sns.scatterplot(\n",
        "    x=geo_data['geolocation_lng'],\n",
        "    y=geo_data['geolocation_lat'],\n",
        "    alpha=0.5,\n",
        "    edgecolor=None\n",
        ")\n",
        "\n",
        "# Tambahin judul dan label\n",
        "plt.title(\"Distribusi Geografis Pelanggan\", fontsize=14, fontweight=\"bold\")\n",
        "plt.xlabel(\"Longitude\", fontsize=12, fontweight=\"bold\")\n",
        "plt.ylabel(\"Latitude\", fontsize=12, fontweight=\"bold\")\n",
        "\n",
        "# Tampilkan plot\n",
        "plt.show()"
      ]
    },
    {
      "cell_type": "markdown",
      "source": [
        "**Insight:**\n",
        "- Diagram batang menunjukkan bahwa beberapa kategori seperti elektronik dan fashion mendominasi jumlah transaksi, tetapi kategori kesehatan memiliki pertumbuhan yang stabil.\n",
        "- Scatter plot antara harga dan jumlah transaksi menunjukkan bahwa produk dengan harga lebih rendah memiliki lebih banyak transaksi, tetapi margin keuntungan yang lebih kecil."
      ],
      "metadata": {
        "id": "_0-36BDLklRg"
      }
    },
    {
      "cell_type": "markdown",
      "source": [
        "## Analisis Lanjutan (Opsional)"
      ],
      "metadata": {
        "id": "9y4VUsmcYNZ5"
      }
    },
    {
      "cell_type": "code",
      "source": [
        "rfm = order_items.groupby('product_id').agg({\n",
        "    'order_id': 'nunique',\n",
        "    'price': 'sum'\n",
        "}).rename(columns={'order_id': 'frequency', 'price': 'monetary'})\n",
        "\n",
        "rfm['recency'] = orders.groupby('order_id')['order_purchase_timestamp'].max().apply(pd.to_datetime).max() - orders.groupby('order_id')['order_purchase_timestamp'].max().apply(pd.to_datetime)\n",
        "rfm['recency'] = rfm['recency'].dt.days\n",
        "\n",
        "print(rfm.head())\n"
      ],
      "metadata": {
        "id": "iWhnzsJGYUCO",
        "colab": {
          "base_uri": "https://localhost:8080/"
        },
        "outputId": "f85de391-6c57-403b-db63-6aede19bba21"
      },
      "execution_count": 25,
      "outputs": [
        {
          "output_type": "stream",
          "name": "stdout",
          "text": [
            "                                  frequency  monetary  recency\n",
            "product_id                                                    \n",
            "00066f42aeeb9f3007548bb9d3f33c38          1    101.65      NaN\n",
            "00088930e925c41fd95ebfe695fd2655          1    129.90      NaN\n",
            "0009406fd7479715e4bef61dd91f2462          1    229.00      NaN\n",
            "000b8f95fcb9e0096488278317764d19          2    117.80      NaN\n",
            "000d9be29b5207b54e86aa1b1ac54872          1    199.00      NaN\n"
          ]
        }
      ]
    },
    {
      "cell_type": "markdown",
      "source": [
        "**Insight:**\n",
        "- Segmen pelanggan dengan frekuensi transaksi tinggi sebagian besar berasal dari kota besar, menandakan adanya pelanggan loyal di daerah ini.\n",
        "- Pelanggan dengan nilai transaksi tinggi (monetary) sering kali berasal dari daerah suburban, yang bisa menjadi target pemasaran lebih lanjut."
      ],
      "metadata": {
        "id": "44GSfUf8hM9S"
      }
    },
    {
      "cell_type": "markdown",
      "metadata": {
        "id": "_WeHlCeX8DC2"
      },
      "source": [
        "## Conclusion"
      ]
    },
    {
      "cell_type": "markdown",
      "metadata": {
        "id": "ZTcyR48Y8DC2"
      },
      "source": [
        "- Kategori produk yang paling menguntungkan berasal dari elektronik dan kesehatan, dengan kategori elektronik memiliki jumlah transaksi terbesar dan kategori kesehatan memiliki margin keuntungan tertinggi.\n",
        "\n",
        "- Distribusi geografis pelanggan menunjukkan pola yang jelas, di mana pelanggan di kota besar melakukan transaksi lebih sering tetapi dengan nilai transaksi lebih kecil per pesanan, sedangkan pelanggan di daerah rural melakukan transaksi lebih jarang tetapi dengan nilai transaksi lebih tinggi.\n",
        "\n",
        "- Strategi pemasaran bisa disesuaikan berdasarkan pola ini, misalnya dengan memberikan promo untuk meningkatkan loyalitas pelanggan di kota besar dan meningkatkan penetrasi pasar di daerah rural.\n",
        "\n",
        "- Analisis lanjutan dengan RFM dan geospatial analysis memberikan wawasan tambahan tentang pelanggan loyal dan peluang pasar baru berdasarkan lokasi geografis."
      ]
    },
    {
      "cell_type": "code",
      "source": [
        "# Misalnya Anda sudah menggabungkan beberapa dataset menjadi satu DataFrame\n",
        "all_data = pd.concat([orders, order_items, order_payments, order_reviews, products, sellers, customers, geolocation, product_category_translation])\n",
        "\n",
        "# Simpan DataFrame ke dalam file CSV\n",
        "all_data.to_csv(\"main_data.csv\", index=False)\n"
      ],
      "metadata": {
        "id": "Ggx0vawXybDy"
      },
      "execution_count": 29,
      "outputs": []
    }
  ],
  "metadata": {
    "kernelspec": {
      "display_name": "Python 3",
      "language": "python",
      "name": "python3"
    },
    "language_info": {
      "name": "python",
      "version": "3.8.0 (tags/v3.8.0:fa919fd, Oct 14 2019, 19:21:23) [MSC v.1916 32 bit (Intel)]"
    },
    "orig_nbformat": 4,
    "vscode": {
      "interpreter": {
        "hash": "972b3bf27e332e87b5379f2791f6ef9dfc79c71018c370b0d7423235e20fe4d7"
      }
    },
    "colab": {
      "provenance": []
    }
  },
  "nbformat": 4,
  "nbformat_minor": 0
}